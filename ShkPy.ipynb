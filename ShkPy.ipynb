{
 "cells": [
  {
   "cell_type": "code",
   "execution_count": 218,
   "id": "57d0e00c",
   "metadata": {},
   "outputs": [
    {
     "name": "stdout",
     "output_type": "stream",
     "text": [
      "Hello Welcome to Python Learning\n"
     ]
    }
   ],
   "source": [
    "#Playing with Variables\n",
    "a= \"Hello\"\n",
    "b= \"Welcome to Python Learning\"\n",
    "c= a +\" \"+b\n",
    "c_str = str(c)\n",
    "print (c_str)"
   ]
  },
  {
   "cell_type": "code",
   "execution_count": 219,
   "id": "558d8667",
   "metadata": {},
   "outputs": [
    {
     "name": "stdout",
     "output_type": "stream",
     "text": [
      "typeanythingThis is input text\n",
      "This is input textThis is input textThis is input textThis is input textThis is input text\n"
     ]
    }
   ],
   "source": [
    "#Get input, Process and print\n",
    "test = input(\"typeanything\")\n",
    "print (5*test)"
   ]
  },
  {
   "cell_type": "code",
   "execution_count": 225,
   "id": "a24db035",
   "metadata": {},
   "outputs": [
    {
     "name": "stdout",
     "output_type": "stream",
     "text": [
      "type only Integer3\n",
      "15\n"
     ]
    }
   ],
   "source": [
    "#Controling Input type Here we defined Integer\n",
    "test=int(input(\"type only Integer\"))\n",
    "print (5*test)"
   ]
  },
  {
   "cell_type": "code",
   "execution_count": 222,
   "id": "6ee6bef9",
   "metadata": {},
   "outputs": [
    {
     "name": "stdout",
     "output_type": "stream",
     "text": [
      "type float value of x2\n",
      "type y value3\n",
      "y is greater\n"
     ]
    }
   ],
   "source": [
    "#If-then-Else\n",
    "x=float(input(\"type float value of x\"))\n",
    "y=float(input(\"type y value\"))\n",
    "if x==y:\n",
    "    print(\"X\", x, \"and Y\" ,y ,\"are equal\")\n",
    "elif x > y:\n",
    "    print (\"X is greater\")\n",
    "else:\n",
    "    print (\"y is greater\")\n",
    "    \n",
    "    "
   ]
  },
  {
   "cell_type": "code",
   "execution_count": 226,
   "id": "1ca386b7",
   "metadata": {},
   "outputs": [
    {
     "name": "stdout",
     "output_type": "stream",
     "text": [
      "1\n",
      "2\n",
      "3\n"
     ]
    }
   ],
   "source": [
    "#While loop, if condition is met then execute\n",
    "x=1\n",
    "while x < 4: \n",
    "    print (x)\n",
    "    x = x+1"
   ]
  },
  {
   "cell_type": "code",
   "execution_count": 182,
   "id": "4b8d4dd6",
   "metadata": {},
   "outputs": [
    {
     "name": "stdout",
     "output_type": "stream",
     "text": [
      "5\n",
      "y is 7\n",
      "10\n",
      "y is 8\n",
      "15\n",
      "y is 9\n"
     ]
    }
   ],
   "source": [
    "#i=0\n",
    "#y=6\n",
    "#for x in range (10): #range (start,stop,step)\n",
    "for i in range(5,20,5):\n",
    "    print (i)\n",
    "#Actually this loop goes 3 times, i value is less significat here\n",
    "    y=y+1\n",
    "    print (\"y is\",y)\n",
    "#to Break the loop with a condition\n",
    "    if y >15:\n",
    "        break\n",
    "y=6"
   ]
  },
  {
   "cell_type": "code",
   "execution_count": 168,
   "id": "be7c1aac",
   "metadata": {},
   "outputs": [
    {
     "data": {
      "text/plain": [
       "('h', 'k')"
      ]
     },
     "execution_count": 168,
     "metadata": {},
     "output_type": "execute_result"
    }
   ],
   "source": [
    "#Playing with strings\n",
    "x=\"Shankar\"\n",
    "x[1], x[-3]"
   ]
  },
  {
   "cell_type": "code",
   "execution_count": 130,
   "id": "46624e0a",
   "metadata": {},
   "outputs": [
    {
     "name": "stdout",
     "output_type": "stream",
     "text": [
      "7\n"
     ]
    }
   ],
   "source": [
    "print(len(x))"
   ]
  },
  {
   "cell_type": "code",
   "execution_count": 132,
   "id": "ff361d11",
   "metadata": {},
   "outputs": [
    {
     "data": {
      "text/plain": [
       "'low'"
      ]
     },
     "execution_count": 132,
     "metadata": {},
     "output_type": "execute_result"
    }
   ],
   "source": [
    "#Slice strings [Start:stop:step]\n",
    "x=\"HellowHowAreYou\"\n",
    "#get \"low\"\n",
    "x[3:6]"
   ]
  },
  {
   "cell_type": "code",
   "execution_count": 147,
   "id": "4b73dfa2",
   "metadata": {},
   "outputs": [
    {
     "data": {
      "text/plain": [
       "'lwoAeo'"
      ]
     },
     "execution_count": 147,
     "metadata": {},
     "output_type": "execute_result"
    }
   ],
   "source": [
    "#to get lwoAeo - this is good for obfuscations\n",
    "x[(len(x)-12):15:2]"
   ]
  },
  {
   "cell_type": "code",
   "execution_count": 141,
   "id": "eb2a1b09",
   "metadata": {},
   "outputs": [
    {
     "data": {
      "text/plain": [
       "'HellowHowAreYou'"
      ]
     },
     "execution_count": 141,
     "metadata": {},
     "output_type": "execute_result"
    }
   ],
   "source": [
    "#Full string\n",
    "x[::]"
   ]
  },
  {
   "cell_type": "code",
   "execution_count": 145,
   "id": "adff6afb",
   "metadata": {},
   "outputs": [
    {
     "data": {
      "text/plain": [
       "'HellowHowAreYou'"
      ]
     },
     "execution_count": 145,
     "metadata": {},
     "output_type": "execute_result"
    }
   ],
   "source": [
    "x[0:len(x):1]"
   ]
  },
  {
   "cell_type": "code",
   "execution_count": 175,
   "id": "a241792a",
   "metadata": {},
   "outputs": [
    {
     "name": "stdout",
     "output_type": "stream",
     "text": [
      "YeeelloWW\n"
     ]
    }
   ],
   "source": [
    "#Hellow to YeeelloWW and X is bound to be a new Object\n",
    "x=\"hello\"\n",
    "x='Yee'+x[1:len(x)]+'WW'\n",
    "print (x)"
   ]
  },
  {
   "cell_type": "code",
   "execution_count": 176,
   "id": "32ed9011",
   "metadata": {},
   "outputs": [
    {
     "name": "stdout",
     "output_type": "stream",
     "text": [
      "There is an i or o\n"
     ]
    }
   ],
   "source": [
    "#We can call a variable inside a for loop \"loop variable\" Here X=YeeelloWW\n",
    "for shk in range (len(x)):\n",
    "    if x[shk] == 'i' or x[shk] == 'o':\n",
    "        print (\"There is an i or o\")\n",
    "\n"
   ]
  },
  {
   "cell_type": "code",
   "execution_count": 178,
   "id": "78e181f9",
   "metadata": {},
   "outputs": [
    {
     "name": "stdout",
     "output_type": "stream",
     "text": [
      "There is an i or o\n"
     ]
    }
   ],
   "source": [
    "#Another Pythonic Method\n",
    "for char in x:\n",
    "    if char == 'i' or char == 'o':\n",
    "        print (\"There is an i or o\")\n",
    "    "
   ]
  },
  {
   "cell_type": "code",
   "execution_count": 190,
   "id": "ba8ced36",
   "metadata": {
    "scrolled": false
   },
   "outputs": [
    {
     "name": "stdout",
     "output_type": "stream",
     "text": [
      "Type your NamePragati\n",
      "Enter Enthusiasm Level 1-106\n",
      "Give me an P !\n",
      "Give me an r !\n",
      "Give me an a !\n",
      "Give me an g !\n",
      "Give me an a !\n",
      "Give me an t !\n",
      "Give me an i !\n",
      "What does it spells?\n",
      "Pragati !!!\n",
      "Pragati !!!\n",
      "Pragati !!!\n",
      "Pragati !!!\n",
      "Pragati !!!\n",
      "Pragati !!!\n"
     ]
    }
   ],
   "source": [
    "#Cheer BoT Program\n",
    "word = input(\"Type your Name\")\n",
    "#try to give error if input is wrong\n",
    "level =int(input(\"Enter Enthusiasm Level 1-10\"))\n",
    "for j in range (len(word)):\n",
    "    print (\"Give me an\",word[j], \"!\")\n",
    "print (\"What does it spells?\")\n",
    "for k in range (level):\n",
    "    print(word,\"!!!\")\n",
    "\n",
    "\n"
   ]
  },
  {
   "cell_type": "code",
   "execution_count": 211,
   "id": "252d4d0f",
   "metadata": {},
   "outputs": [
    {
     "name": "stdout",
     "output_type": "stream",
     "text": [
      "Enter the cube Root700\n",
      "Cube 700 is not a perfect Cube\n",
      "Nearest cube root of 700 is 8 and cube is 512\n"
     ]
    }
   ],
   "source": [
    "#Guess and Check Cube Root\n",
    "#Meaning starts with 0x0x0,1x1x1, 2x2x2, 3x3x3 etc\n",
    "cube =int(input(\"Enter the cube Root\"))\n",
    "for guess in range (abs(cube)+1):\n",
    "    if guess**3 > cube:\n",
    "        print (\"Cube\", cube, \"is not a perfect Cube\")\n",
    "        #How to find the nearest? \n",
    "        print (\"Nearest cube root of\", cube, \"is\", guess-1, \"and cube is\", (guess-1)**3)\n",
    "        break\n",
    "    elif guess**3 == cube:\n",
    "        print (\"Cube root of\", cube, \"is\", guess)\n",
    "        break\n",
    "        "
   ]
  },
  {
   "cell_type": "code",
   "execution_count": null,
   "id": "24a5885d",
   "metadata": {},
   "outputs": [],
   "source": []
  },
  {
   "cell_type": "code",
   "execution_count": null,
   "id": "3112c4ac",
   "metadata": {},
   "outputs": [],
   "source": []
  }
 ],
 "metadata": {
  "kernelspec": {
   "display_name": "Python 3 (ipykernel)",
   "language": "python",
   "name": "python3"
  },
  "language_info": {
   "codemirror_mode": {
    "name": "ipython",
    "version": 3
   },
   "file_extension": ".py",
   "mimetype": "text/x-python",
   "name": "python",
   "nbconvert_exporter": "python",
   "pygments_lexer": "ipython3",
   "version": "3.9.12"
  }
 },
 "nbformat": 4,
 "nbformat_minor": 5
}
